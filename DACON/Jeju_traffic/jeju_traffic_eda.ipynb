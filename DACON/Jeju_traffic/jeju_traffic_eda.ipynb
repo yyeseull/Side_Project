{
 "cells": [
  {
   "attachments": {},
   "cell_type": "markdown",
   "metadata": {},
   "source": [
    "변수명,변수 설명   \n",
    "id : 아이디   \n",
    "base_date : 날짜   \n",
    "day_of_week : 요일  \n",
    "base_hour : 시간대  \n",
    "road_in_use : 도로사용여부  \n",
    "lane_count : 차로수  \n",
    "road_rating : 도로등급  \n",
    "multi_linked : 중용구간 여부  \n",
    "connect_code : 연결로 코드  \n",
    "maximum_speed_limit : 최고속도제한  \n",
    "weight_restricted : 통과제한하중  \n",
    "height_restricted : 통과제한높이  \n",
    "road_type : 도로유형  \n",
    "start_latitude : 시작지점의 위도  \n",
    "start_longitude : 시작지점의 경도  \n",
    "start_turn_restricted : 시작 지점의 회전제한 유무  \n",
    "end_latitude : 도착지점의 위도  \n",
    "end_longitude : 도착지점의 경도  \n",
    "end_turn_restricted : 도작지점의 회전제한 유무  \n",
    "road_name : 도로명  \n",
    "start_node_name : 시작지점명  \n",
    "end_node_name : 도착지점명  \n",
    "vehicle_restricted : 통과제한차량  \n",
    "target : 평균속도(km)  \n"
   ]
  },
  {
   "cell_type": "code",
   "execution_count": 19,
   "metadata": {},
   "outputs": [],
   "source": [
    "import numpy as np \n",
    "import pandas as pd "
   ]
  },
  {
   "cell_type": "code",
   "execution_count": 20,
   "metadata": {},
   "outputs": [],
   "source": [
    "df_train=pd.read_csv(\"/Users/yeseulseo/Side_Project/DACON/Jeju_traffic/data/train.csv\")\n",
    "df_test=pd.read_csv(\"/Users/yeseulseo/Side_Project/DACON/Jeju_traffic/data/test.csv\")"
   ]
  },
  {
   "cell_type": "code",
   "execution_count": 21,
   "metadata": {},
   "outputs": [
    {
     "data": {
      "text/html": [
       "<div>\n",
       "<style scoped>\n",
       "    .dataframe tbody tr th:only-of-type {\n",
       "        vertical-align: middle;\n",
       "    }\n",
       "\n",
       "    .dataframe tbody tr th {\n",
       "        vertical-align: top;\n",
       "    }\n",
       "\n",
       "    .dataframe thead th {\n",
       "        text-align: right;\n",
       "    }\n",
       "</style>\n",
       "<table border=\"1\" class=\"dataframe\">\n",
       "  <thead>\n",
       "    <tr style=\"text-align: right;\">\n",
       "      <th></th>\n",
       "      <th>id</th>\n",
       "      <th>base_date</th>\n",
       "      <th>day_of_week</th>\n",
       "      <th>base_hour</th>\n",
       "      <th>lane_count</th>\n",
       "      <th>road_rating</th>\n",
       "      <th>road_name</th>\n",
       "      <th>multi_linked</th>\n",
       "      <th>connect_code</th>\n",
       "      <th>maximum_speed_limit</th>\n",
       "      <th>...</th>\n",
       "      <th>road_type</th>\n",
       "      <th>start_node_name</th>\n",
       "      <th>start_latitude</th>\n",
       "      <th>start_longitude</th>\n",
       "      <th>start_turn_restricted</th>\n",
       "      <th>end_node_name</th>\n",
       "      <th>end_latitude</th>\n",
       "      <th>end_longitude</th>\n",
       "      <th>end_turn_restricted</th>\n",
       "      <th>target</th>\n",
       "    </tr>\n",
       "  </thead>\n",
       "  <tbody>\n",
       "    <tr>\n",
       "      <th>0</th>\n",
       "      <td>TRAIN_0000000</td>\n",
       "      <td>20220623</td>\n",
       "      <td>목</td>\n",
       "      <td>17</td>\n",
       "      <td>1</td>\n",
       "      <td>106</td>\n",
       "      <td>지방도1112호선</td>\n",
       "      <td>0</td>\n",
       "      <td>0</td>\n",
       "      <td>60.0</td>\n",
       "      <td>...</td>\n",
       "      <td>3</td>\n",
       "      <td>제3교래교</td>\n",
       "      <td>33.427747</td>\n",
       "      <td>126.662612</td>\n",
       "      <td>없음</td>\n",
       "      <td>제3교래교</td>\n",
       "      <td>33.427749</td>\n",
       "      <td>126.662335</td>\n",
       "      <td>없음</td>\n",
       "      <td>52.0</td>\n",
       "    </tr>\n",
       "    <tr>\n",
       "      <th>1</th>\n",
       "      <td>TRAIN_0000001</td>\n",
       "      <td>20220728</td>\n",
       "      <td>목</td>\n",
       "      <td>21</td>\n",
       "      <td>2</td>\n",
       "      <td>103</td>\n",
       "      <td>일반국도11호선</td>\n",
       "      <td>0</td>\n",
       "      <td>0</td>\n",
       "      <td>60.0</td>\n",
       "      <td>...</td>\n",
       "      <td>0</td>\n",
       "      <td>광양사거리</td>\n",
       "      <td>33.500730</td>\n",
       "      <td>126.529107</td>\n",
       "      <td>있음</td>\n",
       "      <td>KAL사거리</td>\n",
       "      <td>33.504811</td>\n",
       "      <td>126.526240</td>\n",
       "      <td>없음</td>\n",
       "      <td>30.0</td>\n",
       "    </tr>\n",
       "    <tr>\n",
       "      <th>2</th>\n",
       "      <td>TRAIN_0000002</td>\n",
       "      <td>20211010</td>\n",
       "      <td>일</td>\n",
       "      <td>7</td>\n",
       "      <td>2</td>\n",
       "      <td>103</td>\n",
       "      <td>일반국도16호선</td>\n",
       "      <td>0</td>\n",
       "      <td>0</td>\n",
       "      <td>80.0</td>\n",
       "      <td>...</td>\n",
       "      <td>0</td>\n",
       "      <td>창고천교</td>\n",
       "      <td>33.279145</td>\n",
       "      <td>126.368598</td>\n",
       "      <td>없음</td>\n",
       "      <td>상창육교</td>\n",
       "      <td>33.280072</td>\n",
       "      <td>126.362147</td>\n",
       "      <td>없음</td>\n",
       "      <td>61.0</td>\n",
       "    </tr>\n",
       "    <tr>\n",
       "      <th>3</th>\n",
       "      <td>TRAIN_0000003</td>\n",
       "      <td>20220311</td>\n",
       "      <td>금</td>\n",
       "      <td>13</td>\n",
       "      <td>2</td>\n",
       "      <td>107</td>\n",
       "      <td>태평로</td>\n",
       "      <td>0</td>\n",
       "      <td>0</td>\n",
       "      <td>50.0</td>\n",
       "      <td>...</td>\n",
       "      <td>0</td>\n",
       "      <td>남양리조트</td>\n",
       "      <td>33.246081</td>\n",
       "      <td>126.567204</td>\n",
       "      <td>없음</td>\n",
       "      <td>서현주택</td>\n",
       "      <td>33.245565</td>\n",
       "      <td>126.566228</td>\n",
       "      <td>없음</td>\n",
       "      <td>20.0</td>\n",
       "    </tr>\n",
       "    <tr>\n",
       "      <th>4</th>\n",
       "      <td>TRAIN_0000004</td>\n",
       "      <td>20211005</td>\n",
       "      <td>화</td>\n",
       "      <td>8</td>\n",
       "      <td>2</td>\n",
       "      <td>103</td>\n",
       "      <td>일반국도12호선</td>\n",
       "      <td>0</td>\n",
       "      <td>0</td>\n",
       "      <td>80.0</td>\n",
       "      <td>...</td>\n",
       "      <td>0</td>\n",
       "      <td>애월샷시</td>\n",
       "      <td>33.462214</td>\n",
       "      <td>126.326551</td>\n",
       "      <td>없음</td>\n",
       "      <td>애월입구</td>\n",
       "      <td>33.462677</td>\n",
       "      <td>126.330152</td>\n",
       "      <td>없음</td>\n",
       "      <td>38.0</td>\n",
       "    </tr>\n",
       "    <tr>\n",
       "      <th>5</th>\n",
       "      <td>TRAIN_0000005</td>\n",
       "      <td>20210913</td>\n",
       "      <td>월</td>\n",
       "      <td>7</td>\n",
       "      <td>2</td>\n",
       "      <td>107</td>\n",
       "      <td>경찰로</td>\n",
       "      <td>0</td>\n",
       "      <td>0</td>\n",
       "      <td>60.0</td>\n",
       "      <td>...</td>\n",
       "      <td>0</td>\n",
       "      <td>시청입구2</td>\n",
       "      <td>33.249949</td>\n",
       "      <td>126.505664</td>\n",
       "      <td>없음</td>\n",
       "      <td>서호2차현대맨션203동</td>\n",
       "      <td>33.252183</td>\n",
       "      <td>126.506069</td>\n",
       "      <td>없음</td>\n",
       "      <td>28.0</td>\n",
       "    </tr>\n",
       "    <tr>\n",
       "      <th>6</th>\n",
       "      <td>TRAIN_0000006</td>\n",
       "      <td>20220106</td>\n",
       "      <td>목</td>\n",
       "      <td>0</td>\n",
       "      <td>2</td>\n",
       "      <td>107</td>\n",
       "      <td>-</td>\n",
       "      <td>0</td>\n",
       "      <td>0</td>\n",
       "      <td>60.0</td>\n",
       "      <td>...</td>\n",
       "      <td>0</td>\n",
       "      <td>가동</td>\n",
       "      <td>33.418412</td>\n",
       "      <td>126.268029</td>\n",
       "      <td>없음</td>\n",
       "      <td>나동</td>\n",
       "      <td>33.414175</td>\n",
       "      <td>126.269378</td>\n",
       "      <td>없음</td>\n",
       "      <td>39.0</td>\n",
       "    </tr>\n",
       "    <tr>\n",
       "      <th>7</th>\n",
       "      <td>TRAIN_0000007</td>\n",
       "      <td>20211213</td>\n",
       "      <td>월</td>\n",
       "      <td>16</td>\n",
       "      <td>2</td>\n",
       "      <td>107</td>\n",
       "      <td>외도천교</td>\n",
       "      <td>0</td>\n",
       "      <td>0</td>\n",
       "      <td>60.0</td>\n",
       "      <td>...</td>\n",
       "      <td>3</td>\n",
       "      <td>외도천교</td>\n",
       "      <td>33.482392</td>\n",
       "      <td>126.441622</td>\n",
       "      <td>없음</td>\n",
       "      <td>외도천교</td>\n",
       "      <td>33.482332</td>\n",
       "      <td>126.442266</td>\n",
       "      <td>없음</td>\n",
       "      <td>28.0</td>\n",
       "    </tr>\n",
       "    <tr>\n",
       "      <th>8</th>\n",
       "      <td>TRAIN_0000008</td>\n",
       "      <td>20211004</td>\n",
       "      <td>월</td>\n",
       "      <td>15</td>\n",
       "      <td>2</td>\n",
       "      <td>107</td>\n",
       "      <td>경찰로</td>\n",
       "      <td>0</td>\n",
       "      <td>0</td>\n",
       "      <td>60.0</td>\n",
       "      <td>...</td>\n",
       "      <td>0</td>\n",
       "      <td>신성교회</td>\n",
       "      <td>33.253074</td>\n",
       "      <td>126.506393</td>\n",
       "      <td>없음</td>\n",
       "      <td>서호2차현대맨션203동</td>\n",
       "      <td>33.252183</td>\n",
       "      <td>126.506069</td>\n",
       "      <td>없음</td>\n",
       "      <td>14.0</td>\n",
       "    </tr>\n",
       "    <tr>\n",
       "      <th>9</th>\n",
       "      <td>TRAIN_0000009</td>\n",
       "      <td>20211208</td>\n",
       "      <td>수</td>\n",
       "      <td>2</td>\n",
       "      <td>1</td>\n",
       "      <td>103</td>\n",
       "      <td>일반국도16호선</td>\n",
       "      <td>0</td>\n",
       "      <td>0</td>\n",
       "      <td>50.0</td>\n",
       "      <td>...</td>\n",
       "      <td>0</td>\n",
       "      <td>양수장</td>\n",
       "      <td>33.361717</td>\n",
       "      <td>126.766958</td>\n",
       "      <td>없음</td>\n",
       "      <td>제2가시교</td>\n",
       "      <td>33.364336</td>\n",
       "      <td>126.769409</td>\n",
       "      <td>없음</td>\n",
       "      <td>52.0</td>\n",
       "    </tr>\n",
       "  </tbody>\n",
       "</table>\n",
       "<p>10 rows × 23 columns</p>\n",
       "</div>"
      ],
      "text/plain": [
       "              id  base_date day_of_week  base_hour  lane_count  road_rating  \\\n",
       "0  TRAIN_0000000   20220623           목         17           1          106   \n",
       "1  TRAIN_0000001   20220728           목         21           2          103   \n",
       "2  TRAIN_0000002   20211010           일          7           2          103   \n",
       "3  TRAIN_0000003   20220311           금         13           2          107   \n",
       "4  TRAIN_0000004   20211005           화          8           2          103   \n",
       "5  TRAIN_0000005   20210913           월          7           2          107   \n",
       "6  TRAIN_0000006   20220106           목          0           2          107   \n",
       "7  TRAIN_0000007   20211213           월         16           2          107   \n",
       "8  TRAIN_0000008   20211004           월         15           2          107   \n",
       "9  TRAIN_0000009   20211208           수          2           1          103   \n",
       "\n",
       "   road_name  multi_linked  connect_code  maximum_speed_limit  ...  road_type  \\\n",
       "0  지방도1112호선             0             0                 60.0  ...          3   \n",
       "1   일반국도11호선             0             0                 60.0  ...          0   \n",
       "2   일반국도16호선             0             0                 80.0  ...          0   \n",
       "3        태평로             0             0                 50.0  ...          0   \n",
       "4   일반국도12호선             0             0                 80.0  ...          0   \n",
       "5        경찰로             0             0                 60.0  ...          0   \n",
       "6          -             0             0                 60.0  ...          0   \n",
       "7       외도천교             0             0                 60.0  ...          3   \n",
       "8        경찰로             0             0                 60.0  ...          0   \n",
       "9   일반국도16호선             0             0                 50.0  ...          0   \n",
       "\n",
       "   start_node_name  start_latitude  start_longitude start_turn_restricted  \\\n",
       "0            제3교래교       33.427747       126.662612                    없음   \n",
       "1            광양사거리       33.500730       126.529107                    있음   \n",
       "2             창고천교       33.279145       126.368598                    없음   \n",
       "3            남양리조트       33.246081       126.567204                    없음   \n",
       "4             애월샷시       33.462214       126.326551                    없음   \n",
       "5            시청입구2       33.249949       126.505664                    없음   \n",
       "6               가동       33.418412       126.268029                    없음   \n",
       "7             외도천교       33.482392       126.441622                    없음   \n",
       "8             신성교회       33.253074       126.506393                    없음   \n",
       "9              양수장       33.361717       126.766958                    없음   \n",
       "\n",
       "   end_node_name  end_latitude end_longitude end_turn_restricted  target  \n",
       "0          제3교래교     33.427749    126.662335                  없음    52.0  \n",
       "1         KAL사거리     33.504811    126.526240                  없음    30.0  \n",
       "2           상창육교     33.280072    126.362147                  없음    61.0  \n",
       "3           서현주택     33.245565    126.566228                  없음    20.0  \n",
       "4           애월입구     33.462677    126.330152                  없음    38.0  \n",
       "5   서호2차현대맨션203동     33.252183    126.506069                  없음    28.0  \n",
       "6             나동     33.414175    126.269378                  없음    39.0  \n",
       "7           외도천교     33.482332    126.442266                  없음    28.0  \n",
       "8   서호2차현대맨션203동     33.252183    126.506069                  없음    14.0  \n",
       "9          제2가시교     33.364336    126.769409                  없음    52.0  \n",
       "\n",
       "[10 rows x 23 columns]"
      ]
     },
     "execution_count": 21,
     "metadata": {},
     "output_type": "execute_result"
    }
   ],
   "source": [
    "df_train.head(10)"
   ]
  },
  {
   "cell_type": "code",
   "execution_count": 22,
   "metadata": {},
   "outputs": [
    {
     "data": {
      "text/plain": [
       "(4701217, 23)"
      ]
     },
     "execution_count": 22,
     "metadata": {},
     "output_type": "execute_result"
    }
   ],
   "source": [
    "df_train.shape"
   ]
  },
  {
   "cell_type": "code",
   "execution_count": 23,
   "metadata": {},
   "outputs": [
    {
     "name": "stdout",
     "output_type": "stream",
     "text": [
      "<class 'pandas.core.frame.DataFrame'>\n",
      "RangeIndex: 4701217 entries, 0 to 4701216\n",
      "Data columns (total 23 columns):\n",
      " #   Column                 Dtype  \n",
      "---  ------                 -----  \n",
      " 0   id                     object \n",
      " 1   base_date              int64  \n",
      " 2   day_of_week            object \n",
      " 3   base_hour              int64  \n",
      " 4   lane_count             int64  \n",
      " 5   road_rating            int64  \n",
      " 6   road_name              object \n",
      " 7   multi_linked           int64  \n",
      " 8   connect_code           int64  \n",
      " 9   maximum_speed_limit    float64\n",
      " 10  vehicle_restricted     float64\n",
      " 11  weight_restricted      float64\n",
      " 12  height_restricted      float64\n",
      " 13  road_type              int64  \n",
      " 14  start_node_name        object \n",
      " 15  start_latitude         float64\n",
      " 16  start_longitude        float64\n",
      " 17  start_turn_restricted  object \n",
      " 18  end_node_name          object \n",
      " 19  end_latitude           float64\n",
      " 20  end_longitude          float64\n",
      " 21  end_turn_restricted    object \n",
      " 22  target                 float64\n",
      "dtypes: float64(9), int64(7), object(7)\n",
      "memory usage: 825.0+ MB\n"
     ]
    }
   ],
   "source": [
    "df_train.info()"
   ]
  },
  {
   "cell_type": "code",
   "execution_count": 24,
   "metadata": {},
   "outputs": [
    {
     "data": {
      "text/plain": [
       "id                       0\n",
       "base_date                0\n",
       "day_of_week              0\n",
       "base_hour                0\n",
       "lane_count               0\n",
       "road_rating              0\n",
       "road_name                0\n",
       "multi_linked             0\n",
       "connect_code             0\n",
       "maximum_speed_limit      0\n",
       "vehicle_restricted       0\n",
       "weight_restricted        0\n",
       "height_restricted        0\n",
       "road_type                0\n",
       "start_node_name          0\n",
       "start_latitude           0\n",
       "start_longitude          0\n",
       "start_turn_restricted    0\n",
       "end_node_name            0\n",
       "end_latitude             0\n",
       "end_longitude            0\n",
       "end_turn_restricted      0\n",
       "target                   0\n",
       "dtype: int64"
      ]
     },
     "execution_count": 24,
     "metadata": {},
     "output_type": "execute_result"
    }
   ],
   "source": [
    "#결측치 확인 \n",
    "df_train.isnull().sum()"
   ]
  },
  {
   "cell_type": "code",
   "execution_count": 25,
   "metadata": {},
   "outputs": [
    {
     "data": {
      "text/plain": [
       "['id',\n",
       " 'base_date',\n",
       " 'day_of_week',\n",
       " 'base_hour',\n",
       " 'lane_count',\n",
       " 'road_rating',\n",
       " 'road_name',\n",
       " 'multi_linked',\n",
       " 'connect_code',\n",
       " 'maximum_speed_limit',\n",
       " 'vehicle_restricted',\n",
       " 'weight_restricted',\n",
       " 'height_restricted',\n",
       " 'road_type',\n",
       " 'start_node_name',\n",
       " 'start_latitude',\n",
       " 'start_longitude',\n",
       " 'start_turn_restricted',\n",
       " 'end_node_name',\n",
       " 'end_latitude',\n",
       " 'end_longitude',\n",
       " 'end_turn_restricted',\n",
       " 'target']"
      ]
     },
     "execution_count": 25,
     "metadata": {},
     "output_type": "execute_result"
    }
   ],
   "source": [
    "df_train.columns.values.tolist()\n"
   ]
  },
  {
   "cell_type": "code",
   "execution_count": 26,
   "metadata": {},
   "outputs": [
    {
     "data": {
      "text/plain": [
       "id                       4701217\n",
       "base_date                    281\n",
       "day_of_week                    7\n",
       "base_hour                     24\n",
       "lane_count                     3\n",
       "road_rating                    3\n",
       "road_name                     61\n",
       "multi_linked                   2\n",
       "connect_code                   2\n",
       "maximum_speed_limit            6\n",
       "vehicle_restricted             1\n",
       "weight_restricted              4\n",
       "height_restricted              1\n",
       "road_type                      2\n",
       "start_node_name              487\n",
       "start_latitude               586\n",
       "start_longitude              586\n",
       "start_turn_restricted          2\n",
       "end_node_name                487\n",
       "end_latitude                 586\n",
       "end_longitude                586\n",
       "end_turn_restricted            2\n",
       "target                       102\n",
       "dtype: int64"
      ]
     },
     "execution_count": 26,
     "metadata": {},
     "output_type": "execute_result"
    }
   ],
   "source": [
    "df_train.nunique()"
   ]
  },
  {
   "cell_type": "code",
   "execution_count": 27,
   "metadata": {},
   "outputs": [
    {
     "data": {
      "text/plain": [
       "day_of_week\n",
       "금    684024\n",
       "수    675583\n",
       "목    674070\n",
       "일    673632\n",
       "토    669767\n",
       "화    662498\n",
       "월    661643\n",
       "Name: count, dtype: int64"
      ]
     },
     "execution_count": 27,
     "metadata": {},
     "output_type": "execute_result"
    }
   ],
   "source": [
    "df_train['day_of_week'].value_counts()"
   ]
  },
  {
   "cell_type": "code",
   "execution_count": 28,
   "metadata": {},
   "outputs": [
    {
     "data": {
      "text/plain": [
       "day_of_week\n",
       "화    47452\n",
       "수    46974\n",
       "월    46405\n",
       "금    38029\n",
       "목    37983\n",
       "토    37280\n",
       "일    37118\n",
       "Name: count, dtype: int64"
      ]
     },
     "execution_count": 28,
     "metadata": {},
     "output_type": "execute_result"
    }
   ],
   "source": [
    "df_test['day_of_week'].value_counts()"
   ]
  },
  {
   "cell_type": "code",
   "execution_count": 29,
   "metadata": {},
   "outputs": [
    {
     "data": {
      "text/plain": [
       "road_type\n",
       "0    3737117\n",
       "3     964100\n",
       "Name: count, dtype: int64"
      ]
     },
     "execution_count": 29,
     "metadata": {},
     "output_type": "execute_result"
    }
   ],
   "source": [
    "df_train['road_type'].value_counts()\n"
   ]
  },
  {
   "cell_type": "code",
   "execution_count": 30,
   "metadata": {},
   "outputs": [
    {
     "data": {
      "text/plain": [
       "road_rating\n",
       "103    2159511\n",
       "107    1582214\n",
       "106     959492\n",
       "Name: count, dtype: int64"
      ]
     },
     "execution_count": 30,
     "metadata": {},
     "output_type": "execute_result"
    }
   ],
   "source": [
    "df_train['road_rating'].value_counts()\n"
   ]
  },
  {
   "cell_type": "code",
   "execution_count": 31,
   "metadata": {},
   "outputs": [
    {
     "data": {
      "text/plain": [
       "maximum_speed_limit\n",
       "60.0    1665573\n",
       "50.0    1103682\n",
       "70.0     995077\n",
       "80.0     700334\n",
       "30.0     229761\n",
       "40.0       6790\n",
       "Name: count, dtype: int64"
      ]
     },
     "execution_count": 31,
     "metadata": {},
     "output_type": "execute_result"
    }
   ],
   "source": [
    "df_train['maximum_speed_limit'].value_counts()\n"
   ]
  },
  {
   "cell_type": "code",
   "execution_count": null,
   "metadata": {},
   "outputs": [],
   "source": []
  }
 ],
 "metadata": {
  "kernelspec": {
   "display_name": "jeju",
   "language": "python",
   "name": "python3"
  },
  "language_info": {
   "codemirror_mode": {
    "name": "ipython",
    "version": 3
   },
   "file_extension": ".py",
   "mimetype": "text/x-python",
   "name": "python",
   "nbconvert_exporter": "python",
   "pygments_lexer": "ipython3",
   "version": "3.8.16"
  },
  "orig_nbformat": 4
 },
 "nbformat": 4,
 "nbformat_minor": 2
}
