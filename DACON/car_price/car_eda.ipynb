{
 "cells": [
  {
   "attachments": {},
   "cell_type": "markdown",
   "metadata": {},
   "source": [
    "# 데이콘 Basic 자동차 가격 예측 AI 경진대회\n",
    "\n",
    "## 대회 정보\n",
    "- 설명 : 자동차 생산년도, 브랜드, 종류 등 자동차와 관련된 데이터를 활용하여 자동차 가격을 예측하는 AI 모델을 개발\n",
    "- 규칙 : 외부 데이터 사용 불가 \n",
    "\n",
    "## 데이터 정보\n",
    "train.csv\n",
    "- 57920개의 데이터\n",
    "\n",
    "test.csv\n",
    "- 14480개의 데이터\n",
    "\n",
    "## Column 설명\n",
    "- ID : 샘플 별 고유 id\n",
    "- 생산년도 : 차량이 생산된 연도\n",
    "- 모델출시년도 : 차량의 모델이 처음으로 출시된 연도\n",
    "- 브랜드\n",
    "- 차량모델명\n",
    "- 판매도시 : 3글자로 인코딩된 도시 이름\n",
    "- 판매구역 : 3글자로 인코딩된 구역 이름\n",
    "- 주행거리 : 총 주행 거리(km)\n",
    "- 배기량 : 내연기관에서 피스톤이 최대로 밀어내거나 빨아들이는 부피 (cc)\n",
    "- 압축천연가스(CNG) : 압축천연가스(CNG) 자동차 여부\n",
    "- 경유 : 경유 자동차 여부\n",
    "- 가솔린 : 가솔린 자동차 여부\n",
    "- 하이브리드 : 하이브리드 자동차 여부\n",
    "- 액화석유가스(LPG) : 액화석유가스(LPG) 자동차 여부\n",
    "- 가격 : 자동차 가격(백만원)\n",
    "\n",
    "\n"
   ]
  },
  {
   "attachments": {},
   "cell_type": "markdown",
   "metadata": {},
   "source": [
    "## Import"
   ]
  },
  {
   "cell_type": "code",
   "execution_count": 17,
   "metadata": {},
   "outputs": [],
   "source": [
    "import numpy as np \n",
    "import pandas as pd\n",
    "import matplotlib.pyplot as plt\n",
    "import seaborn as sns\n",
    "from matplotlib import rc \n",
    "rc('font', family='AppleGothic')#맥 한글깨짐"
   ]
  },
  {
   "cell_type": "code",
   "execution_count": 18,
   "metadata": {},
   "outputs": [],
   "source": [
    "train= pd.read_csv(\"data/train.csv\")\n",
    "test= pd.read_csv(\"data/test.csv\")"
   ]
  },
  {
   "attachments": {},
   "cell_type": "markdown",
   "metadata": {},
   "source": [
    "## 데이터 정보"
   ]
  },
  {
   "cell_type": "code",
   "execution_count": 19,
   "metadata": {},
   "outputs": [
    {
     "data": {
      "text/html": [
       "<div>\n",
       "<style scoped>\n",
       "    .dataframe tbody tr th:only-of-type {\n",
       "        vertical-align: middle;\n",
       "    }\n",
       "\n",
       "    .dataframe tbody tr th {\n",
       "        vertical-align: top;\n",
       "    }\n",
       "\n",
       "    .dataframe thead th {\n",
       "        text-align: right;\n",
       "    }\n",
       "</style>\n",
       "<table border=\"1\" class=\"dataframe\">\n",
       "  <thead>\n",
       "    <tr style=\"text-align: right;\">\n",
       "      <th></th>\n",
       "      <th>ID</th>\n",
       "      <th>생산년도</th>\n",
       "      <th>모델출시년도</th>\n",
       "      <th>브랜드</th>\n",
       "      <th>차량모델명</th>\n",
       "      <th>판매도시</th>\n",
       "      <th>판매구역</th>\n",
       "      <th>주행거리</th>\n",
       "      <th>배기량</th>\n",
       "      <th>압축천연가스(CNG)</th>\n",
       "      <th>경유</th>\n",
       "      <th>가솔린</th>\n",
       "      <th>하이브리드</th>\n",
       "      <th>액화석유가스(LPG)</th>\n",
       "      <th>가격</th>\n",
       "    </tr>\n",
       "  </thead>\n",
       "  <tbody>\n",
       "    <tr>\n",
       "      <th>0</th>\n",
       "      <td>TRAIN_00000</td>\n",
       "      <td>2018</td>\n",
       "      <td>2014</td>\n",
       "      <td>skoda</td>\n",
       "      <td>fabia</td>\n",
       "      <td>KAT</td>\n",
       "      <td>SLA</td>\n",
       "      <td>85231</td>\n",
       "      <td>999</td>\n",
       "      <td>0</td>\n",
       "      <td>0</td>\n",
       "      <td>1</td>\n",
       "      <td>0</td>\n",
       "      <td>0</td>\n",
       "      <td>51.74</td>\n",
       "    </tr>\n",
       "    <tr>\n",
       "      <th>1</th>\n",
       "      <td>TRAIN_00001</td>\n",
       "      <td>2010</td>\n",
       "      <td>2006</td>\n",
       "      <td>toyota</td>\n",
       "      <td>auris</td>\n",
       "      <td>RKO</td>\n",
       "      <td>SWI</td>\n",
       "      <td>135000</td>\n",
       "      <td>1598</td>\n",
       "      <td>0</td>\n",
       "      <td>0</td>\n",
       "      <td>1</td>\n",
       "      <td>0</td>\n",
       "      <td>0</td>\n",
       "      <td>41.47</td>\n",
       "    </tr>\n",
       "    <tr>\n",
       "      <th>2</th>\n",
       "      <td>TRAIN_00002</td>\n",
       "      <td>2002</td>\n",
       "      <td>2002</td>\n",
       "      <td>mercedes-benz</td>\n",
       "      <td>clk-klasa</td>\n",
       "      <td>GNI</td>\n",
       "      <td>WIE</td>\n",
       "      <td>255223</td>\n",
       "      <td>1796</td>\n",
       "      <td>0</td>\n",
       "      <td>0</td>\n",
       "      <td>1</td>\n",
       "      <td>0</td>\n",
       "      <td>0</td>\n",
       "      <td>17.81</td>\n",
       "    </tr>\n",
       "    <tr>\n",
       "      <th>3</th>\n",
       "      <td>TRAIN_00003</td>\n",
       "      <td>2006</td>\n",
       "      <td>2001</td>\n",
       "      <td>nissan</td>\n",
       "      <td>x-trail</td>\n",
       "      <td>EHX</td>\n",
       "      <td>WIE</td>\n",
       "      <td>238000</td>\n",
       "      <td>2184</td>\n",
       "      <td>0</td>\n",
       "      <td>1</td>\n",
       "      <td>0</td>\n",
       "      <td>0</td>\n",
       "      <td>0</td>\n",
       "      <td>18.20</td>\n",
       "    </tr>\n",
       "    <tr>\n",
       "      <th>4</th>\n",
       "      <td>TRAIN_00004</td>\n",
       "      <td>2007</td>\n",
       "      <td>2007</td>\n",
       "      <td>fiat</td>\n",
       "      <td>bravo</td>\n",
       "      <td>OSW</td>\n",
       "      <td>MAL</td>\n",
       "      <td>251000</td>\n",
       "      <td>1910</td>\n",
       "      <td>0</td>\n",
       "      <td>1</td>\n",
       "      <td>0</td>\n",
       "      <td>0</td>\n",
       "      <td>0</td>\n",
       "      <td>17.55</td>\n",
       "    </tr>\n",
       "  </tbody>\n",
       "</table>\n",
       "</div>"
      ],
      "text/plain": [
       "            ID  생산년도  모델출시년도            브랜드      차량모델명 판매도시 판매구역    주행거리  \\\n",
       "0  TRAIN_00000  2018    2014          skoda      fabia  KAT  SLA   85231   \n",
       "1  TRAIN_00001  2010    2006         toyota      auris  RKO  SWI  135000   \n",
       "2  TRAIN_00002  2002    2002  mercedes-benz  clk-klasa  GNI  WIE  255223   \n",
       "3  TRAIN_00003  2006    2001         nissan    x-trail  EHX  WIE  238000   \n",
       "4  TRAIN_00004  2007    2007           fiat      bravo  OSW  MAL  251000   \n",
       "\n",
       "    배기량  압축천연가스(CNG)  경유  가솔린  하이브리드  액화석유가스(LPG)     가격  \n",
       "0   999            0   0    1      0            0  51.74  \n",
       "1  1598            0   0    1      0            0  41.47  \n",
       "2  1796            0   0    1      0            0  17.81  \n",
       "3  2184            0   1    0      0            0  18.20  \n",
       "4  1910            0   1    0      0            0  17.55  "
      ]
     },
     "execution_count": 19,
     "metadata": {},
     "output_type": "execute_result"
    }
   ],
   "source": [
    "train.head()"
   ]
  },
  {
   "cell_type": "code",
   "execution_count": 20,
   "metadata": {},
   "outputs": [
    {
     "data": {
      "text/html": [
       "<div>\n",
       "<style scoped>\n",
       "    .dataframe tbody tr th:only-of-type {\n",
       "        vertical-align: middle;\n",
       "    }\n",
       "\n",
       "    .dataframe tbody tr th {\n",
       "        vertical-align: top;\n",
       "    }\n",
       "\n",
       "    .dataframe thead th {\n",
       "        text-align: right;\n",
       "    }\n",
       "</style>\n",
       "<table border=\"1\" class=\"dataframe\">\n",
       "  <thead>\n",
       "    <tr style=\"text-align: right;\">\n",
       "      <th></th>\n",
       "      <th>ID</th>\n",
       "      <th>생산년도</th>\n",
       "      <th>모델출시년도</th>\n",
       "      <th>브랜드</th>\n",
       "      <th>차량모델명</th>\n",
       "      <th>판매도시</th>\n",
       "      <th>판매구역</th>\n",
       "      <th>주행거리</th>\n",
       "      <th>배기량</th>\n",
       "      <th>압축천연가스(CNG)</th>\n",
       "      <th>경유</th>\n",
       "      <th>가솔린</th>\n",
       "      <th>하이브리드</th>\n",
       "      <th>액화석유가스(LPG)</th>\n",
       "    </tr>\n",
       "  </thead>\n",
       "  <tbody>\n",
       "    <tr>\n",
       "      <th>0</th>\n",
       "      <td>TEST_00000</td>\n",
       "      <td>2017</td>\n",
       "      <td>2013</td>\n",
       "      <td>mazda</td>\n",
       "      <td>3</td>\n",
       "      <td>KAL</td>\n",
       "      <td>WIE</td>\n",
       "      <td>57000</td>\n",
       "      <td>1998</td>\n",
       "      <td>0</td>\n",
       "      <td>0</td>\n",
       "      <td>1</td>\n",
       "      <td>0</td>\n",
       "      <td>0</td>\n",
       "    </tr>\n",
       "    <tr>\n",
       "      <th>1</th>\n",
       "      <td>TEST_00001</td>\n",
       "      <td>2011</td>\n",
       "      <td>2008</td>\n",
       "      <td>ford</td>\n",
       "      <td>fiesta</td>\n",
       "      <td>ROP</td>\n",
       "      <td>POD</td>\n",
       "      <td>159000</td>\n",
       "      <td>1242</td>\n",
       "      <td>0</td>\n",
       "      <td>0</td>\n",
       "      <td>1</td>\n",
       "      <td>0</td>\n",
       "      <td>0</td>\n",
       "    </tr>\n",
       "    <tr>\n",
       "      <th>2</th>\n",
       "      <td>TEST_00002</td>\n",
       "      <td>2019</td>\n",
       "      <td>2017</td>\n",
       "      <td>volkswagen</td>\n",
       "      <td>polo</td>\n",
       "      <td>LOD</td>\n",
       "      <td>LOD</td>\n",
       "      <td>11284</td>\n",
       "      <td>999</td>\n",
       "      <td>0</td>\n",
       "      <td>0</td>\n",
       "      <td>1</td>\n",
       "      <td>0</td>\n",
       "      <td>0</td>\n",
       "    </tr>\n",
       "    <tr>\n",
       "      <th>3</th>\n",
       "      <td>TEST_00003</td>\n",
       "      <td>2021</td>\n",
       "      <td>2016</td>\n",
       "      <td>renault</td>\n",
       "      <td>megane</td>\n",
       "      <td>JAW</td>\n",
       "      <td>SLA</td>\n",
       "      <td>9</td>\n",
       "      <td>1332</td>\n",
       "      <td>0</td>\n",
       "      <td>0</td>\n",
       "      <td>1</td>\n",
       "      <td>0</td>\n",
       "      <td>0</td>\n",
       "    </tr>\n",
       "    <tr>\n",
       "      <th>4</th>\n",
       "      <td>TEST_00004</td>\n",
       "      <td>2010</td>\n",
       "      <td>2011</td>\n",
       "      <td>volvo</td>\n",
       "      <td>v60</td>\n",
       "      <td>WEJ</td>\n",
       "      <td>POM</td>\n",
       "      <td>270000</td>\n",
       "      <td>1999</td>\n",
       "      <td>0</td>\n",
       "      <td>0</td>\n",
       "      <td>1</td>\n",
       "      <td>0</td>\n",
       "      <td>0</td>\n",
       "    </tr>\n",
       "  </tbody>\n",
       "</table>\n",
       "</div>"
      ],
      "text/plain": [
       "           ID  생산년도  모델출시년도         브랜드   차량모델명 판매도시 판매구역    주행거리   배기량  \\\n",
       "0  TEST_00000  2017    2013       mazda       3  KAL  WIE   57000  1998   \n",
       "1  TEST_00001  2011    2008        ford  fiesta  ROP  POD  159000  1242   \n",
       "2  TEST_00002  2019    2017  volkswagen    polo  LOD  LOD   11284   999   \n",
       "3  TEST_00003  2021    2016     renault  megane  JAW  SLA       9  1332   \n",
       "4  TEST_00004  2010    2011       volvo     v60  WEJ  POM  270000  1999   \n",
       "\n",
       "   압축천연가스(CNG)  경유  가솔린  하이브리드  액화석유가스(LPG)  \n",
       "0            0   0    1      0            0  \n",
       "1            0   0    1      0            0  \n",
       "2            0   0    1      0            0  \n",
       "3            0   0    1      0            0  \n",
       "4            0   0    1      0            0  "
      ]
     },
     "execution_count": 20,
     "metadata": {},
     "output_type": "execute_result"
    }
   ],
   "source": [
    "test.head()"
   ]
  },
  {
   "cell_type": "code",
   "execution_count": 16,
   "metadata": {},
   "outputs": [
    {
     "name": "stdout",
     "output_type": "stream",
     "text": [
      "<class 'pandas.core.frame.DataFrame'>\n",
      "RangeIndex: 57920 entries, 0 to 57919\n",
      "Data columns (total 15 columns):\n",
      " #   Column       Non-Null Count  Dtype  \n",
      "---  ------       --------------  -----  \n",
      " 0   ID           57920 non-null  object \n",
      " 1   생산년도         57920 non-null  int64  \n",
      " 2   모델출시년도       57920 non-null  int64  \n",
      " 3   브랜드          57920 non-null  object \n",
      " 4   차량모델명        57920 non-null  object \n",
      " 5   판매도시         57920 non-null  object \n",
      " 6   판매구역         57920 non-null  object \n",
      " 7   주행거리         57920 non-null  int64  \n",
      " 8   배기량          57920 non-null  int64  \n",
      " 9   압축천연가스(CNG)  57920 non-null  int64  \n",
      " 10  경유           57920 non-null  int64  \n",
      " 11  가솔린          57920 non-null  int64  \n",
      " 12  하이브리드        57920 non-null  int64  \n",
      " 13  액화석유가스(LPG)  57920 non-null  int64  \n",
      " 14  가격           57920 non-null  float64\n",
      "dtypes: float64(1), int64(9), object(5)\n",
      "memory usage: 6.6+ MB\n"
     ]
    }
   ],
   "source": [
    "train.info()"
   ]
  },
  {
   "cell_type": "code",
   "execution_count": 13,
   "metadata": {},
   "outputs": [
    {
     "name": "stdout",
     "output_type": "stream",
     "text": [
      "train :  (57920, 15)\n",
      "test :  (14480, 14)\n"
     ]
    }
   ],
   "source": [
    "print(\"train : \", train.shape)\n",
    "print(\"test : \", test.shape)\n"
   ]
  },
  {
   "cell_type": "code",
   "execution_count": 23,
   "metadata": {},
   "outputs": [
    {
     "data": {
      "text/plain": [
       "ID             0\n",
       "생산년도           0\n",
       "모델출시년도         0\n",
       "브랜드            0\n",
       "차량모델명          0\n",
       "판매도시           0\n",
       "판매구역           0\n",
       "주행거리           0\n",
       "배기량            0\n",
       "압축천연가스(CNG)    0\n",
       "경유             0\n",
       "가솔린            0\n",
       "하이브리드          0\n",
       "액화석유가스(LPG)    0\n",
       "가격             0\n",
       "dtype: int64"
      ]
     },
     "execution_count": 23,
     "metadata": {},
     "output_type": "execute_result"
    }
   ],
   "source": [
    "train.isnull().sum()\n"
   ]
  },
  {
   "cell_type": "code",
   "execution_count": 22,
   "metadata": {},
   "outputs": [
    {
     "data": {
      "text/plain": [
       "ID             57920\n",
       "생산년도              39\n",
       "모델출시년도            34\n",
       "브랜드               20\n",
       "차량모델명            143\n",
       "판매도시            3224\n",
       "판매구역              17\n",
       "주행거리           20994\n",
       "배기량              347\n",
       "압축천연가스(CNG)        2\n",
       "경유                 2\n",
       "가솔린                2\n",
       "하이브리드              2\n",
       "액화석유가스(LPG)        2\n",
       "가격              2466\n",
       "dtype: int64"
      ]
     },
     "execution_count": 22,
     "metadata": {},
     "output_type": "execute_result"
    }
   ],
   "source": [
    "#고유값\n",
    "train.nunique()"
   ]
  },
  {
   "cell_type": "code",
   "execution_count": 25,
   "metadata": {},
   "outputs": [
    {
     "name": "stdout",
     "output_type": "stream",
     "text": [
      "train 생산년도 시작년도 :  1978\n",
      "train 생산년도 마지막년도 :  2022\n"
     ]
    }
   ],
   "source": [
    "print('train 생산년도 시작년도 : ',np.min(train['생산년도'].values))\n",
    "print('train 생산년도 마지막년도 : ',np.max(train['생산년도'].values))"
   ]
  },
  {
   "cell_type": "code",
   "execution_count": 26,
   "metadata": {},
   "outputs": [
    {
     "name": "stdout",
     "output_type": "stream",
     "text": [
      "train 모델출시년도 시작년도 :  1983\n",
      "train 모델출시년도 마지막년도 :  2021\n"
     ]
    }
   ],
   "source": [
    "print('train 모델출시년도 시작년도 : ',np.min(train['모델출시년도'].values))\n",
    "print('train 모델출시년도 마지막년도 : ',np.max(train['모델출시년도'].values))"
   ]
  },
  {
   "cell_type": "code",
   "execution_count": 41,
   "metadata": {},
   "outputs": [
    {
     "ename": "AttributeError",
     "evalue": "'NoneType' object has no attribute 'reset_index'",
     "output_type": "error",
     "traceback": [
      "\u001b[0;31m---------------------------------------------------------------------------\u001b[0m",
      "\u001b[0;31mAttributeError\u001b[0m                            Traceback (most recent call last)",
      "Cell \u001b[0;32mIn[41], line 1\u001b[0m\n\u001b[0;32m----> 1\u001b[0m train\u001b[39m.\u001b[39;49mdrop(train[(train[\u001b[39m'\u001b[39;49m\u001b[39m모델출시년도\u001b[39;49m\u001b[39m'\u001b[39;49m] \u001b[39m>\u001b[39;49m train[\u001b[39m'\u001b[39;49m\u001b[39m생산년도\u001b[39;49m\u001b[39m'\u001b[39;49m] )]\u001b[39m.\u001b[39;49mindex, inplace\u001b[39m=\u001b[39;49m\u001b[39mTrue\u001b[39;49;00m)\u001b[39m.\u001b[39;49mreset_index()\n\u001b[1;32m      2\u001b[0m \u001b[39m# 이거 진짜 이상하네 \u001b[39;00m\n",
      "\u001b[0;31mAttributeError\u001b[0m: 'NoneType' object has no attribute 'reset_index'"
     ]
    }
   ],
   "source": [
    "train.drop(train[(train['모델출시년도'] > train['생산년도'] )].index, inplace=True)\n",
    "# 이거 진짜 이상하네 "
   ]
  },
  {
   "cell_type": "code",
   "execution_count": 32,
   "metadata": {},
   "outputs": [
    {
     "data": {
      "text/plain": [
       "판매구역\n",
       "MAZ    10846\n",
       "SLA     7655\n",
       "WIE     6910\n",
       "MAL     4746\n",
       "DOL     4603\n",
       "LOD     3581\n",
       "POM     3517\n",
       "KUJ     2628\n",
       "LUB     2598\n",
       "ZAC     2078\n",
       "POD     1849\n",
       "SWI     1789\n",
       "WAR     1569\n",
       "LUU     1427\n",
       "POL     1066\n",
       "OPO     1041\n",
       "MOR       17\n",
       "Name: count, dtype: int64"
      ]
     },
     "execution_count": 32,
     "metadata": {},
     "output_type": "execute_result"
    }
   ],
   "source": [
    "train['판매구역'].value_counts()"
   ]
  },
  {
   "cell_type": "code",
   "execution_count": 33,
   "metadata": {},
   "outputs": [
    {
     "data": {
      "text/plain": [
       "브랜드\n",
       "opel             6651\n",
       "ford             5819\n",
       "volkswagen       5693\n",
       "audi             5597\n",
       "bmw              5262\n",
       "renault          3853\n",
       "toyota           3259\n",
       "skoda            3130\n",
       "mercedes-benz    2899\n",
       "nissan           2129\n",
       "kia              2034\n",
       "hyundai          1855\n",
       "seat             1628\n",
       "mazda            1572\n",
       "honda            1545\n",
       "volvo            1352\n",
       "fiat             1164\n",
       "citroen          1129\n",
       "peugeot           793\n",
       "mitsubishi        556\n",
       "Name: count, dtype: int64"
      ]
     },
     "execution_count": 33,
     "metadata": {},
     "output_type": "execute_result"
    }
   ],
   "source": [
    "train['브랜드'].value_counts()"
   ]
  },
  {
   "cell_type": "code",
   "execution_count": 34,
   "metadata": {},
   "outputs": [
    {
     "data": {
      "text/plain": [
       "판매도시\n",
       "WAR    3245\n",
       "KRA    1241\n",
       "WRO    1166\n",
       "LOD    1141\n",
       "POZ     987\n",
       "       ... \n",
       "MVH       1\n",
       "CIB       1\n",
       "CED       1\n",
       "FNQ       1\n",
       "ZDZ       1\n",
       "Name: count, Length: 3224, dtype: int64"
      ]
     },
     "execution_count": 34,
     "metadata": {},
     "output_type": "execute_result"
    }
   ],
   "source": [
    "train['판매도시'].value_counts()"
   ]
  },
  {
   "cell_type": "code",
   "execution_count": null,
   "metadata": {},
   "outputs": [],
   "source": []
  }
 ],
 "metadata": {
  "kernelspec": {
   "display_name": "jeju",
   "language": "python",
   "name": "python3"
  },
  "language_info": {
   "codemirror_mode": {
    "name": "ipython",
    "version": 3
   },
   "file_extension": ".py",
   "mimetype": "text/x-python",
   "name": "python",
   "nbconvert_exporter": "python",
   "pygments_lexer": "ipython3",
   "version": "3.8.16"
  },
  "orig_nbformat": 4
 },
 "nbformat": 4,
 "nbformat_minor": 2
}
